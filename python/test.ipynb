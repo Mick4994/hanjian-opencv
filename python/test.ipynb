{
 "cells": [
  {
   "cell_type": "code",
   "execution_count": 1,
   "metadata": {},
   "outputs": [],
   "source": [
    "import cv2\n",
    "import numpy as np\n",
    "import matplotlib.pyplot as plt"
   ]
  },
  {
   "cell_type": "markdown",
   "metadata": {},
   "source": [
    "读取模板数字,然后分割并预处理数字模板"
   ]
  },
  {
   "cell_type": "code",
   "execution_count": 2,
   "metadata": {},
   "outputs": [],
   "source": [
    "# img = cv2.imread('../OCR credit_card recogition/ocr_a_reference.png',0)\n",
    "# num_img_list = []\n",
    "# for i in range(10):\n",
    "#     num_img = img[20:len(img)-20,i*80+10:(i+1)*80-10]\n",
    "#     _,bin_num_img = cv2.threshold(num_img,127,255,cv2.THRESH_BINARY)\n",
    "#     num_img_list.append(bin_num_img)\n",
    "#     cv2.namedWindow('number',cv2.WINDOW_NORMAL)\n",
    "#     cv2.imshow('number',bin_num_img)\n",
    "#     cv2.waitKey(0)\n",
    "# cv2.destroyAllWindows()"
   ]
  },
  {
   "cell_type": "markdown",
   "metadata": {},
   "source": [
    "水平分割图像的数字模板"
   ]
  },
  {
   "cell_type": "code",
   "execution_count": 2,
   "metadata": {},
   "outputs": [],
   "source": [
    "def TemplateNum():\n",
    "    img = cv2.imread('../OCR credit_card recogition/ocr_a_reference.png',0)\n",
    "    img = img[20:len(img)-20]\n",
    "    s_img_list = [[img[i][s] for i in range(len(img))] for s in range(len(img[0]))]\n",
    "    s_black_pixel_count = [i.count(0) for i in s_img_list]\n",
    "    in_split = False\n",
    "    s_split_list = []\n",
    "    for i in range(len(s_black_pixel_count)):\n",
    "        if s_black_pixel_count[i] > 0:\n",
    "            if in_split == False:\n",
    "                s_split_list.append(i)\n",
    "                in_split = True\n",
    "        else:\n",
    "            if in_split == True:\n",
    "                s_split_list.append(i)\n",
    "            in_split = False\n",
    "    num_split_img_list = []\n",
    "    for i in range(1,len(s_split_list),2):\n",
    "        split_img = img[0:-1,s_split_list[i-1]:s_split_list[i]]\n",
    "        num_split_img_list.append(split_img)\n",
    "        cv2.imshow('split',split_img)\n",
    "        cv2.waitKey(0)\n",
    "        cv2.destroyAllWindows()\n",
    "    return num_split_img_list\n",
    "Template_num = TemplateNum()"
   ]
  },
  {
   "cell_type": "markdown",
   "metadata": {},
   "source": [
    "读信用卡"
   ]
  },
  {
   "cell_type": "code",
   "execution_count": 106,
   "metadata": {},
   "outputs": [],
   "source": [
    "def ReadCreditCard():\n",
    "    card_img_list = []\n",
    "    for i in range(1,6):\n",
    "        card_img = cv2.imread('../OCR credit_card recogition/credit_card_0'+str(i)+'.png',0)\n",
    "        card_img = cv2.resize(card_img,(1200,750))\n",
    "        card_img = cv2.blur(card_img,(3,3))\n",
    "        _,bin_card = cv2.threshold(card_img,150,255,cv2.THRESH_BINARY_INV)\n",
    "        contours, _ = cv2.findContours(bin_card,cv2.RETR_TREE,cv2.CHAIN_APPROX_SIMPLE)\n",
    "        Rect_x = []\n",
    "        Rect_area = []\n",
    "        for cnt in contours:\n",
    "            x,y,w,h = cv2.boundingRect(cnt)\n",
    "            area = w*h\n",
    "            if w>400:\n",
    "                Rect_x.append((x,y,w,h))\n",
    "                Rect_area.append(area)\n",
    "                crop = bin_card[y:y+h,x:x+w]\n",
    "                crop = cv2.resize(crop,(1200,750))\n",
    "                if i == 3:\n",
    "                    _,crop = cv2.threshold(crop,0,255,cv2.THRESH_BINARY_INV)\n",
    "                    kernel = np.ones((7,7),np.uint8)\n",
    "                    crop = cv2.dilate(crop,kernel,iterations = 1)\n",
    "                    _,crop = cv2.threshold(crop,0,255,cv2.THRESH_BINARY_INV)\n",
    "                else:\n",
    "                    _,crop = cv2.threshold(crop,0,255,cv2.THRESH_BINARY)\n",
    "        card_img_list.append(crop)\n",
    "        cv2.namedWindow('credit card',cv2.WINDOW_NORMAL)\n",
    "        cv2.imshow('credit card',crop)\n",
    "        cv2.waitKey(0)\n",
    "    cv2.destroyAllWindows()\n",
    "    return card_img_list\n",
    "card_img = ReadCreditCard()"
   ]
  },
  {
   "cell_type": "markdown",
   "metadata": {},
   "source": [
    "根据信用卡上的数字shape大小，预处理模板数字“1”的shape"
   ]
  },
  {
   "cell_type": "code",
   "execution_count": 88,
   "metadata": {},
   "outputs": [
    {
     "name": "stdout",
     "output_type": "stream",
     "text": [
      "(28, 17)\n"
     ]
    }
   ],
   "source": [
    "card_num_img = card_img_list[0][198:226,98:115]\n",
    "cv2.namedWindow('img',cv2.WINDOW_NORMAL)\n",
    "cv2.imshow('img',card_num_img)\n",
    "print(card_num_img.shape)\n",
    "cv2.waitKey(0)\n",
    "cv2.destroyAllWindows()\n",
    "ocr_num0_img = num_split_img_list[0]\n",
    "ocr_num1_img = cv2.resize(ocr_num0_img,((card_num_img.shape)[1],(card_num_img.shape)[0]) )\n",
    "_,ocr_num0_img = cv2.threshold(ocr_num0_img,1,255,cv2.THRESH_BINARY)\n",
    "ocr_num1_img = num_split_img_list[1]\n",
    "ocr_num1_img = cv2.resize(ocr_num1_img,((s_split_img_list[4].shape)[1],(s_split_img_list[4].shape)[0]) )\n",
    "_,ocr_num1_img = cv2.threshold(ocr_num1_img,1,255,cv2.THRESH_BINARY)\n",
    "cv2.namedWindow('img',cv2.WINDOW_NORMAL)\n",
    "cv2.imshow('img',ocr_num1_img)\n",
    "cv2.waitKey(0)\n",
    "cv2.destroyAllWindows()"
   ]
  },
  {
   "cell_type": "markdown",
   "metadata": {},
   "source": [
    "模板匹配样例"
   ]
  },
  {
   "cell_type": "code",
   "execution_count": 86,
   "metadata": {},
   "outputs": [],
   "source": [
    "res = cv2.matchTemplate(card_img_list[0],ocr_num1_img,cv2.TM_SQDIFF_NORMED)\n",
    "w,h = ocr_num1_img.shape[::-1]\n",
    "cv2.normalize( res, res, 0, 1, cv2.NORM_MINMAX, -1 )\n",
    "min_val, max_val, min_loc, max_loc = cv2.minMaxLoc(res)\n",
    "res_img = card_img_list[0].copy()\n",
    "res_img = cv2.cvtColor(res_img,cv2.COLOR_GRAY2BGR)\n",
    "cv2.rectangle(res_img,min_loc,(min_loc[0]+w,min_loc[1]+h) ,(255,0,0),2)\n",
    "cv2.imshow('res',res_img)\n",
    "cv2.waitKey(0)\n",
    "cv2.destroyAllWindows()"
   ]
  },
  {
   "cell_type": "markdown",
   "metadata": {},
   "source": [
    "分割图像"
   ]
  },
  {
   "cell_type": "code",
   "execution_count": 21,
   "metadata": {},
   "outputs": [
    {
     "data": {
      "image/png": "[encoded data removed]",
      "text/plain": [
       "<Figure size 432x288 with 1 Axes>"
      ]
     },
     "metadata": {
      "needs_background": "light"
     },
     "output_type": "display_data"
    }
   ],
   "source": [
    "black_pixel_count = [i.tolist().count(0) for i in card_img_list[0]]\n",
    "plt.bar(range(len(black_pixel_count)),black_pixel_count)\n",
    "plt.show()"
   ]
  },
  {
   "cell_type": "code",
   "execution_count": 72,
   "metadata": {},
   "outputs": [],
   "source": [
    "black_pixel_count = [i.tolist().count(0) for i in card_img_list[0]]\n",
    "in_split = False\n",
    "h_split_list = []\n",
    "for i in range(len(black_pixel_count)):\n",
    "    if black_pixel_count[i] > 5:\n",
    "        if in_split == False:\n",
    "            h_split_list.append(i)\n",
    "            in_split = True\n",
    "    else:\n",
    "        if in_split == True:\n",
    "            h_split_list.append(i)\n",
    "        in_split = False\n",
    "h_split_img_list = []\n",
    "for i in range(1,len(h_split_list),2):\n",
    "    split_img = card_img_list[0][h_split_list[i-1]:h_split_list[i]]\n",
    "    h_split_img_list.append(split_img)"
   ]
  },
  {
   "cell_type": "code",
   "execution_count": 77,
   "metadata": {},
   "outputs": [],
   "source": [
    "cv2.imshow('split',h_split_img_list[2])\n",
    "cv2.waitKey(0)\n",
    "cv2.destroyAllWindows()"
   ]
  },
  {
   "cell_type": "markdown",
   "metadata": {},
   "source": [
    "分割纵向"
   ]
  },
  {
   "cell_type": "code",
   "execution_count": 26,
   "metadata": {},
   "outputs": [],
   "source": [
    "s_img_list = []\n",
    "for s in range(len(h_split_img_list[2][0])):\n",
    "    s_img = []\n",
    "    for i in range(len(h_split_img_list[2])):\n",
    "        s_img.append(h_split_img_list[2][i][s])\n",
    "    s_img_list.append(s_img)"
   ]
  },
  {
   "cell_type": "markdown",
   "metadata": {},
   "source": [
    "用列表生成式"
   ]
  },
  {
   "cell_type": "code",
   "execution_count": 74,
   "metadata": {},
   "outputs": [],
   "source": [
    "s_img_list = [[h_split_img_list[2][i][s] for i in range(len(h_split_img_list[2]))] for s in range(len(h_split_img_list[2][0]))]"
   ]
  },
  {
   "cell_type": "code",
   "execution_count": 76,
   "metadata": {},
   "outputs": [],
   "source": [
    "s_black_pixel_count = [i.count(0) for i in s_img_list]\n",
    "in_split = False\n",
    "s_split_list = []\n",
    "for i in range(len(s_black_pixel_count)):\n",
    "    if s_black_pixel_count[i] > 0:\n",
    "        if in_split == False:\n",
    "            s_split_list.append(i)\n",
    "            in_split = True\n",
    "    else:\n",
    "        if in_split == True:\n",
    "            s_split_list.append(i)\n",
    "        in_split = False\n",
    "s_split_img_list = []\n",
    "for i in range(1,len(s_split_list),2):\n",
    "    split_img = h_split_img_list[2][0:-1,s_split_list[i-1]:s_split_list[i]]\n",
    "    s_split_img_list.append(split_img)\n",
    "    cv2.imshow('split',split_img)\n",
    "    cv2.waitKey(0)\n",
    "cv2.destroyAllWindows()"
   ]
  },
  {
   "cell_type": "markdown",
   "metadata": {},
   "source": [
    "字典操作"
   ]
  },
  {
   "cell_type": "code",
   "execution_count": 53,
   "metadata": {},
   "outputs": [],
   "source": [
    "a = {'(1,1)':split_img}\n",
    "a['[(2,1),(2,2)]']:split_img\n",
    "a.update({'[(1,2),(2,3)]':split_img})\n",
    "b = '(1,1)'\n",
    "b = eval(b)\n",
    "for key,value in a.items():\n",
    "    key = eval(key)\n",
    "    print(key)"
   ]
  },
  {
   "cell_type": "markdown",
   "metadata": {},
   "source": [
    "实例测试"
   ]
  },
  {
   "cell_type": "code",
   "execution_count": 6,
   "metadata": {},
   "outputs": [],
   "source": [
    "class Process_ocr:\n",
    "    def __init__(self):\n",
    "        self.src_img = []\n",
    "        self.bin_img = []\n",
    "        self.split_img = {}\n",
    "        self.ocr_num = {}\n",
    "    def SplitImg(self):\n",
    "        black_pixel_count = [i.tolist().count(0) for i in self.src_img]\n",
    "        in_split = False\n",
    "        h_split_list = []\n",
    "        #分割纵向\n",
    "        for i in range(len(black_pixel_count)):\n",
    "            if black_pixel_count[i] > 5:\n",
    "                if in_split == False:\n",
    "                    h_split_list.append(i)\n",
    "                    in_split = True\n",
    "            else:\n",
    "                if in_split == True:\n",
    "                    h_split_list.append(i)\n",
    "                in_split = False\n",
    "        h_split_img_list = []\n",
    "        h_split_start = []\n",
    "        for i in range(1,len(h_split_list),2):\n",
    "            h_split_img = self.src_img[h_split_list[i-1]:h_split_list[i]]\n",
    "            h_split_start.append(h_split_list[i-1])\n",
    "            h_split_img_list.append(h_split_img)\n",
    "        #分割横向\n",
    "        for j in range(len(h_split_img_list)):\n",
    "            s_img_list = []\n",
    "            for s in range(len(h_split_img_list[j][0])):\n",
    "                s_img = []\n",
    "                for i in range(len(h_split_img_list[j])):\n",
    "                    s_img.append(h_split_img_list[j][i][s])\n",
    "                s_img_list.append(s_img)\n",
    "            s_black_pixel_count = [i.count(0) for i in s_img_list]\n",
    "            in_split = False\n",
    "            s_split_list = []\n",
    "            for i in range(len(s_black_pixel_count)):\n",
    "                if s_black_pixel_count[i] > 0:\n",
    "                    if in_split == False:\n",
    "                        s_split_list.append(i)\n",
    "                        in_split = True\n",
    "                else:\n",
    "                    if in_split == True:\n",
    "                        s_split_list.append(i)\n",
    "                    in_split = False\n",
    "            for i in range(1,len(s_split_list),2):\n",
    "                split_img = h_split_img_list[j][0:-1,s_split_list[i-1]:s_split_list[i]]\n",
    "                position = [(s_split_list[i-1],h_split_start[j]),(s_split_list[i],h_split_start[j]+len(split_img))]\n",
    "                self.split_img.update({str(position):split_img})\n",
    "        "
   ]
  },
  {
   "cell_type": "code",
   "execution_count": 107,
   "metadata": {},
   "outputs": [],
   "source": [
    "def TestOCR(i):\n",
    "    process_ocr = Process_ocr()\n",
    "    process_ocr.src_img = card_img[i]\n",
    "    process_ocr.SplitImg()\n",
    "    for box,img in process_ocr.split_img.items():\n",
    "        res_img = card_img[i].copy()\n",
    "        res_img = cv2.cvtColor(res_img,cv2.COLOR_GRAY2BGR)\n",
    "        box = eval(box)\n",
    "        cv2.rectangle(res_img,(box[0][0],box[0][1]),(box[1][0],box[1][1]),(255,0,0),3)\n",
    "        cv2.imshow('res',res_img)\n",
    "        cv2.imshow('split',img)\n",
    "        cv2.waitKey(0)\n",
    "        cv2.destroyAllWindows()\n",
    "TestOCR(3)"
   ]
  },
  {
   "cell_type": "code",
   "execution_count": 18,
   "metadata": {},
   "outputs": [],
   "source": []
  },
  {
   "cell_type": "code",
   "execution_count": 39,
   "metadata": {},
   "outputs": [],
   "source": [
    "cv2.destroyAllWindows()"
   ]
  },
  {
   "cell_type": "code",
   "execution_count": 20,
   "metadata": {},
   "outputs": [],
   "source": [
    "cv2.imshow('card',card_img[3])\n",
    "cv2.waitKey(0)\n",
    "cv2.destroyAllWindows()"
   ]
  },
  {
   "cell_type": "markdown",
   "metadata": {},
   "source": [
    "轮廓检测和其近似"
   ]
  },
  {
   "cell_type": "code",
   "execution_count": 51,
   "metadata": {},
   "outputs": [],
   "source": [
    "img = card_img[3].copy()\n",
    "contours, hierarchy = cv2.findContours(img,cv2.RETR_TREE,cv2.CHAIN_APPROX_SIMPLE)  \n",
    "img = cv2.cvtColor(img,cv2.COLOR_GRAY2BGR)\n",
    "cv2.drawContours(img,contours,-1,(0,0,255),2)  \n",
    "cv2.imshow(\"img\", img)  \n",
    "cv2.waitKey(0) \n",
    "cv2.destroyAllWindows()\n"
   ]
  },
  {
   "cell_type": "markdown",
   "metadata": {},
   "source": [
    "读取信用卡数字"
   ]
  },
  {
   "cell_type": "code",
   "execution_count": 127,
   "metadata": {},
   "outputs": [],
   "source": [
    "def ReadCreditCard():\n",
    "    card_img_list = []\n",
    "    for i in range(1,6):\n",
    "        card_img = cv2.imread('../OCR credit_card recogition/credit_card_0'+str(i)+'.png',0)\n",
    "        card_img = cv2.resize(card_img,(1200,750))\n",
    "        card_img = cv2.blur(card_img,(3,3))\n",
    "        _,card_img = cv2.threshold(card_img,150,255,cv2.THRESH_BINARY_INV)\n",
    "        card_img_list.append(card_img)\n",
    "    return card_img_list\n",
    "card_img = ReadCreditCard()"
   ]
  },
  {
   "cell_type": "code",
   "execution_count": 131,
   "metadata": {},
   "outputs": [],
   "source": [
    "def BoundCrop():\n",
    "\tfor i in card_img:\n",
    "\t\tRect_x = []\n",
    "\t\tRect_area = []\n",
    "\t\timg = i.copy()\n",
    "\t\tcontours, hierarchy = cv2.findContours(img,cv2.RETR_TREE,cv2.CHAIN_APPROX_SIMPLE)  \n",
    "\t\timg = cv2.cvtColor(img,cv2.COLOR_GRAY2BGR)\n",
    "\t\tfor cnt in contours:\n",
    "\t\t\tx,y,w,h = cv2.boundingRect(cnt)\n",
    "\t\t\tarea = w*h\n",
    "\t\t\tif w>20 and h>45 and w<45 and h<70 and y>300 and y<450:\n",
    "\t\t\t\tRect_x.append((x,y,w,h))\n",
    "\t\t\t\tRect_area.append(area)\n",
    "\t\t\t\tcv2.rectangle(img,(x,y),(x+w,y+h),(0,255,0),2)\n",
    "\t\t\t\tcrop = img[y:y+h,x:x+w]\n",
    "\t\t\t\tcv2.imshow('crop',crop)\n",
    "\t\t\t\t\n",
    "\t\tcv2.imshow(\"test_image\",img)\n",
    "\t\tcv2.waitKey(0)\n",
    "\t\tcv2.destroyAllWindows()\n",
    "BoundCrop()"
   ]
  },
  {
   "cell_type": "code",
   "execution_count": 137,
   "metadata": {},
   "outputs": [],
   "source": [
    "def CardProcess():\n",
    "    ocr_card_img = []\n",
    "    src_card_img = []\n",
    "    for i in range(1,6):\n",
    "        card_img = cv2.imread('../OCR credit_card recogition/credit_card_0'+str(i)+'.png')\n",
    "        card_img = cv2.resize(card_img,(1200,750))\n",
    "        card_img = cv2.blur(card_img,(3,3))\n",
    "        ocr_img = card_img.copy()\n",
    "        card_img = cv2.cvtColor(card_img,cv2.COLOR_BGR2GRAY)\n",
    "        src_card_img.append(card_img)\n",
    "        _,card_img = cv2.threshold(card_img,150,255,cv2.THRESH_BINARY_INV)\n",
    "        Rect_x = []\n",
    "        Rect_area = []\n",
    "        contours,_ = cv2.findContours(card_img,cv2.RETR_TREE,cv2.CHAIN_APPROX_SIMPLE)  \n",
    "        for cnt in contours:\n",
    "            x,y,w,h = cv2.boundingRect(cnt)\n",
    "            area = w*h\n",
    "            if w>20 and h>45 and w<45 and h<70 and y>300 and y<450:\n",
    "                Rect_x.append((x,y,w,h))\n",
    "                Rect_area.append(area)\n",
    "                cv2.rectangle(ocr_img,(x,y),(x+w,y+h),(0,255,0),2)\n",
    "                crop = ocr_img[y:y+h,x:x+w]\n",
    "        ocr_card_img.append(ocr_img)\n",
    "        cv2.imshow(\"test_image\",ocr_img)\n",
    "        cv2.waitKey(0)\n",
    "        cv2.destroyAllWindows()\n",
    "CardProcess()"
   ]
  },
  {
   "cell_type": "code",
   "execution_count": null,
   "metadata": {},
   "outputs": [],
   "source": []
  }
 ],
 "metadata": {
  "kernelspec": {
   "display_name": "Python 3.8.0 ('torchten')",
   "language": "python",
   "name": "python3"
  },
  "language_info": {
   "codemirror_mode": {
    "name": "ipython",
    "version": 3
   },
   "file_extension": ".py",
   "mimetype": "text/x-python",
   "name": "python",
   "nbconvert_exporter": "python",
   "pygments_lexer": "ipython3",
   "version": "3.8.0"
  },
  "orig_nbformat": 4,
  "vscode": {
   "interpreter": {
    "hash": "58327413e5492fb2fdf76ca9fee2591ed82312bc12e3f4ac7566d246af51d64d"
   }
  }
 },
 "nbformat": 4,
 "nbformat_minor": 2
}
